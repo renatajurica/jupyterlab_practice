{
 "cells": [
  {
   "cell_type": "markdown",
   "id": "1c436aae-cc3a-482f-a472-d904babf4e0b",
   "metadata": {},
   "source": [
    "# Renata Jurica\n",
    "Notebook for assignment 7"
   ]
  },
  {
   "cell_type": "code",
   "execution_count": 3,
   "id": "37e7fdf0-8ff8-441f-b416-7bed72a16bb1",
   "metadata": {},
   "outputs": [
    {
     "name": "stdout",
     "output_type": "stream",
     "text": [
      "/c/Users/renat.LAPTOP-6E108O6H/Downloads/student-a7/student\n"
     ]
    }
   ],
   "source": [
    "# run shell command that shows current working directory\n",
    "!pwd"
   ]
  },
  {
   "cell_type": "markdown",
   "id": "643c3d3b-d3c7-42ee-9f34-44eed2671928",
   "metadata": {},
   "source": [
    "To time how long it takes to run a Python cell, we could use the timeit command inside a cell as is shown below: Followed by the proper use of the timeit command to time the following loop:"
   ]
  },
  {
   "cell_type": "code",
   "execution_count": 9,
   "id": "0f35455e-3fd8-441c-954f-0d242c6426ca",
   "metadata": {},
   "outputs": [
    {
     "data": {
      "text/plain": [
       "5.0"
      ]
     },
     "execution_count": 9,
     "metadata": {},
     "output_type": "execute_result"
    }
   ],
   "source": [
    "def compute_mean(arg):\n",
    "    sum = 0\n",
    "    for i in range(len(arg)):\n",
    "        sum=sum+arg[i]\n",
    "    return sum / len(arg)   \n",
    "    \n",
    "compute_mean([2, 4, 6, 8])"
   ]
  },
  {
   "cell_type": "markdown",
   "id": "7d61f30d-369d-4c08-940c-381e162b2605",
   "metadata": {},
   "source": [
    "Function compute_mean calculates the mean on the list provided as an argument and print the result. The calculation performed using following formula:\n",
    "\n",
    "$\n",
    "\\begin{aligned}\n",
    "\\overline{\\rm x} = \\frac{(x_1 + x_2 + ... + x_n)}{n} = \\frac{1}{n} \\left( \\sum_{i=1}^n x_i \\right )\n",
    "\\end{aligned}\n",
    "$\n",
    "\n"
   ]
  }
 ],
 "metadata": {
  "kernelspec": {
   "display_name": "Python 3 (ipykernel)",
   "language": "python",
   "name": "python3"
  },
  "language_info": {
   "codemirror_mode": {
    "name": "ipython",
    "version": 3
   },
   "file_extension": ".py",
   "mimetype": "text/x-python",
   "name": "python",
   "nbconvert_exporter": "python",
   "pygments_lexer": "ipython3",
   "version": "3.10.9"
  }
 },
 "nbformat": 4,
 "nbformat_minor": 5
}
